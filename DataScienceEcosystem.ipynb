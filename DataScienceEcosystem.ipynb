{
 "cells": [
  {
   "cell_type": "markdown",
   "id": "72f16a7e",
   "metadata": {},
   "source": [
    "# Data Science Tools and Ecosystem"
   ]
  },
  {
   "cell_type": "markdown",
   "id": "7752b779",
   "metadata": {},
   "source": [
    "In this notebook, Data Science Tools and Ecosystem are summarized."
   ]
  },
  {
   "cell_type": "markdown",
   "id": "139a4893",
   "metadata": {},
   "source": [
    "# Some of the popular languages that Data Scientists use are:\n",
    "1. Python\n",
    "2. Java\n",
    "3. R\n",
    "4. SQL"
   ]
  },
  {
   "cell_type": "markdown",
   "id": "570d62fa",
   "metadata": {},
   "source": [
    "# Some of the commonly used libraries used by Data Scientists include:\n",
    "1. Pandas\n",
    "2. Numpy\n",
    "3. Tensorflow\n",
    "4. Kera"
   ]
  },
  {
   "cell_type": "markdown",
   "id": "70c30c04",
   "metadata": {},
   "source": [
    "\n",
    "| Data Science Tools | \n",
    "| -------------| \n",
    "| VStudio |\n",
    "| Jupyter Notebook |\n",
    "| Rstudio | "
   ]
  },
  {
   "cell_type": "markdown",
   "id": "1056971c",
   "metadata": {},
   "source": [
    "### Below are a few examples of evaluating arithmetic expressions in Python"
   ]
  },
  {
   "cell_type": "code",
   "execution_count": 4,
   "id": "4b26b82a",
   "metadata": {},
   "outputs": [
    {
     "data": {
      "text/plain": [
       "17"
      ]
     },
     "execution_count": 4,
     "metadata": {},
     "output_type": "execute_result"
    }
   ],
   "source": [
    "#This a simple arithmetic expression to mutiply then add integers\n",
    "(3*4)+5"
   ]
  },
  {
   "cell_type": "code",
   "execution_count": 5,
   "id": "4202241b",
   "metadata": {},
   "outputs": [
    {
     "name": "stdout",
     "output_type": "stream",
     "text": [
      "3.3333333333333335\n"
     ]
    }
   ],
   "source": [
    "#This will convert 200 minutes to hours by diving by 60\n",
    "X= 200\n",
    "Y= 60\n",
    "Z= X/Y\n",
    "print(Z)"
   ]
  },
  {
   "cell_type": "markdown",
   "id": "e51ad042",
   "metadata": {},
   "source": [
    "__Objectives:__\n",
    "- List popular languages for Data Science.\n",
    "- Explain the basic concepts of machine learning.\n",
    "- Demonstrate how to create visualizations using Matplotlib."
   ]
  },
  {
   "cell_type": "markdown",
   "id": "e79b4da7",
   "metadata": {},
   "source": [
    "## Author\n",
    "Syed Fahad Murtaza Naqvi"
   ]
  },
  {
   "cell_type": "code",
   "execution_count": null,
   "id": "4271f3fe",
   "metadata": {},
   "outputs": [],
   "source": []
  }
 ],
 "metadata": {
  "kernelspec": {
   "display_name": "Python 3 (ipykernel)",
   "language": "python",
   "name": "python3"
  },
  "language_info": {
   "codemirror_mode": {
    "name": "ipython",
    "version": 3
   },
   "file_extension": ".py",
   "mimetype": "text/x-python",
   "name": "python",
   "nbconvert_exporter": "python",
   "pygments_lexer": "ipython3",
   "version": "3.9.7"
  }
 },
 "nbformat": 4,
 "nbformat_minor": 5
}
